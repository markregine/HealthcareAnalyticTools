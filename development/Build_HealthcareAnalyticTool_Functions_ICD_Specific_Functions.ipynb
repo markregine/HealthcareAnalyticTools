{
 "cells": [
  {
   "cell_type": "code",
   "execution_count": null,
   "metadata": {},
   "outputs": [],
   "source": [
    "import sys\n",
    "sys.path.append(r'C:\\Users\\Mark\\Desktop\\BXA\\HealthcareAnalyticTools')"
   ]
  },
  {
   "cell_type": "code",
   "execution_count": 1,
   "metadata": {},
   "outputs": [
    {
     "data": {
      "text/html": [
       "<style>.container { width:95% !important; }</style>"
      ],
      "text/plain": [
       "<IPython.core.display.HTML object>"
      ]
     },
     "metadata": {},
     "output_type": "display_data"
    }
   ],
   "source": [
    "#%load load.py\n",
    "\n",
    "import pandas as pd\n",
    "import numpy as np\n",
    "from matplotlib import pyplot as plt\n",
    "%matplotlib inline\n",
    "\n",
    "from pyexcel_ods import get_data as OpenOffice\n",
    "\n",
    "from IPython.core.display import display, HTML\n",
    "display(HTML(\"<style>.container { width:95% !important; }</style>\"))"
   ]
  },
  {
   "cell_type": "markdown",
   "metadata": {},
   "source": [
    "## In working with the ICD10 and ICD9 Lookup tables, it's best to have them as pickles"
   ]
  },
  {
   "cell_type": "code",
   "execution_count": null,
   "metadata": {},
   "outputs": [],
   "source": [
    "## Read in all the data from .ods file\n",
    "ooDoc = OpenOffice(r\"C:\\Users\\Mark\\Desktop\\BXA\\HealthcareAnalyticTools\\src\\ICD10_BETAX.ods\")\n",
    "print(ooDoc.keys())"
   ]
  },
  {
   "cell_type": "code",
   "execution_count": null,
   "metadata": {},
   "outputs": [],
   "source": [
    "# ICD 10s\n",
    "dfICD10s = pd.DataFrame(np.array(ooDoc['ICD10_BETAX'])[1:], columns=np.array(ooDoc['ICD10_BETAX'])[0] )\n",
    "\n",
    "# ICD 9s\n",
    "cols = np.array(ooDoc['ICD9_BetaX'])[0][:2]\n",
    "dfICD9s = pd.Series(np.array(ooDoc['ICD9_BetaX'])[1:]).apply(lambda c: 'MARKREGINE'.join(c[:2])).str.split('MARKREGINE', expand=True).rename(columns={0:'ICD9', 1:'Description'})\n",
    "\n",
    "del cols"
   ]
  },
  {
   "cell_type": "code",
   "execution_count": null,
   "metadata": {},
   "outputs": [],
   "source": [
    "# ICD10_to_ICD9\n",
    "dfICD10_to_ICD9 = pd.DataFrame(np.array(ooDoc['ICD10_to_ICD9'])[1:], columns=np.array(ooDoc['ICD10_to_ICD9'])[0] )\n",
    "\n",
    "# ICD9_to_ICD10\n",
    "dfICD9_to_ICD10 = pd.DataFrame(np.array(ooDoc['ICD9_to_ICD10'])[1:], columns=np.array(ooDoc['ICD9_to_ICD10'])[0] )"
   ]
  },
  {
   "cell_type": "code",
   "execution_count": null,
   "metadata": {},
   "outputs": [],
   "source": [
    "# ICD9_to_ICD10\n",
    "dfICD10_levels_123 = pd.DataFrame(np.array(ooDoc['ICD10_levels_123'])[1:], columns=np.array(ooDoc['ICD10_levels_123'])[0] )\n",
    "\n",
    "# ICD10_levels_12345\n",
    "dfICD10_levels_12345 = pd.DataFrame(np.array(ooDoc['ICD10_levels_12345'])[1:], columns=np.array(ooDoc['ICD10_levels_12345'])[0] )"
   ]
  },
  {
   "cell_type": "code",
   "execution_count": null,
   "metadata": {},
   "outputs": [],
   "source": [
    "del ooDoc"
   ]
  },
  {
   "cell_type": "code",
   "execution_count": null,
   "metadata": {},
   "outputs": [],
   "source": [
    "dfICD10s.to_pickle(r\"C:\\Users\\Mark\\Desktop\\BXA\\HealthcareAnalyticTools\\src\\dfICD10LookUp.pkl\")\n",
    "dfICD9s.to_pickle(r\"C:\\Users\\Mark\\Desktop\\BXA\\HealthcareAnalyticTools\\src\\dfICD9LookUp.pkl\")\n",
    "dfICD10_to_ICD9.to_pickle(r\"C:\\Users\\Mark\\Desktop\\BXA\\HealthcareAnalyticTools\\src\\dfICD10_to_ICD9.pkl\")\n",
    "dfICD9_to_ICD10.to_pickle(r\"C:\\Users\\Mark\\Desktop\\BXA\\HealthcareAnalyticTools\\src\\dfICD9_to_ICD10.pkl\")\n",
    "\n",
    "dfICD10_levels_123.to_pickle(r\"C:\\Users\\Mark\\Desktop\\BXA\\HealthcareAnalyticTools\\src\\dfICD10_levels_123.pkl\")\n",
    "dfICD10_levels_12345.to_pickle(r\"C:\\Users\\Mark\\Desktop\\BXA\\HealthcareAnalyticTools\\src\\dfICD10_levels_12345.pkl\")"
   ]
  },
  {
   "cell_type": "markdown",
   "metadata": {},
   "source": [
    "## --------------------------------------------------------------------------"
   ]
  },
  {
   "cell_type": "markdown",
   "metadata": {},
   "source": [
    "## Build ICD Helper tables in HAT"
   ]
  },
  {
   "cell_type": "markdown",
   "metadata": {},
   "source": [
    "## --- Prep ICD 9 Lookup ---"
   ]
  },
  {
   "cell_type": "code",
   "execution_count": null,
   "metadata": {},
   "outputs": [],
   "source": [
    "dfICD9LookUp = pd.read_pickle(r\"C:\\Users\\Mark\\Desktop\\BXA\\HealthcareAnalyticTools\\src\\dfICD9LookUp.pkl\")"
   ]
  },
  {
   "cell_type": "code",
   "execution_count": null,
   "metadata": {},
   "outputs": [],
   "source": [
    "dfICD9Lookup = dfICD9Lookup.apply(lambda c: c.str.strip()).copy()"
   ]
  },
  {
   "cell_type": "code",
   "execution_count": null,
   "metadata": {},
   "outputs": [],
   "source": [
    "print(\"Is the ICD 9 Code in dfICD9Lookup unique:\\n\", dfICD9Lookup.set_index('ICD9').index.is_unique )"
   ]
  },
  {
   "cell_type": "markdown",
   "metadata": {},
   "source": [
    "## --- Prep ICD 10 Lookup ---"
   ]
  },
  {
   "cell_type": "code",
   "execution_count": null,
   "metadata": {},
   "outputs": [],
   "source": [
    "dfICD10LookUp = pd.read_pickle(r\"C:\\Users\\Mark\\Desktop\\BXA\\HealthcareAnalyticTools\\src\\dfICD10LookUp.pkl\")"
   ]
  },
  {
   "cell_type": "code",
   "execution_count": null,
   "metadata": {},
   "outputs": [],
   "source": [
    "dfICD10Lookup = dfICD10Lookup.apply(lambda c: c.str.strip()).copy()"
   ]
  },
  {
   "cell_type": "code",
   "execution_count": null,
   "metadata": {},
   "outputs": [],
   "source": [
    "print(\"Is the ICD 10 Code in dfICD10Lookup unique:\\n\", dfICD10Lookup.set_index('ICD10').index.is_unique )"
   ]
  },
  {
   "cell_type": "markdown",
   "metadata": {},
   "source": [
    "## --- Prep ICD9 to ICD10 ---"
   ]
  },
  {
   "cell_type": "code",
   "execution_count": null,
   "metadata": {},
   "outputs": [],
   "source": [
    "dfICD9_to_ICD10 = pd.read_pickle(r\"C:\\Users\\Mark\\Desktop\\BXA\\HealthcareAnalyticTools\\src\\dfICD9_to_ICD10.pkl\")"
   ]
  },
  {
   "cell_type": "markdown",
   "metadata": {},
   "source": [
    "* #### Dtype and strip"
   ]
  },
  {
   "cell_type": "code",
   "execution_count": 3,
   "metadata": {},
   "outputs": [],
   "source": [
    "dfICD9_to_ICD10 = dfICD9_to_ICD10.apply(lambda c: c.str.strip()).copy()"
   ]
  },
  {
   "cell_type": "markdown",
   "metadata": {},
   "source": [
    "* #### Add Extra zeros to ICD 9 codes"
   ]
  },
  {
   "cell_type": "code",
   "execution_count": 4,
   "metadata": {},
   "outputs": [
    {
     "name": "stdout",
     "output_type": "stream",
     "text": [
      "Make sure all ICD9s have a length of 5:\n",
      " 5    16691\n",
      "4     7111\n",
      "3      145\n",
      "Name: ICD9, dtype: int64\n",
      "Make sure all ICD9s have a length of 5:\n",
      " 5    23947\n",
      "Name: ICD9, dtype: int64\n"
     ]
    }
   ],
   "source": [
    "print(\"Make sure all ICD9s have a length of 5:\\n\", dfICD9_to_ICD10['ICD9'].str.len().value_counts())\n",
    "\n",
    "dfICD9_to_ICD10['ICD9'] = \\\n",
    "    np.where(dfICD9_to_ICD10['ICD9'].str.len() == 5, dfICD9_to_ICD10['ICD9'], \n",
    "        np.where(dfICD9_to_ICD10['ICD9'].str.len() == 4, dfICD9_to_ICD10['ICD9'] + '0', \n",
    "            np.where(dfICD9_to_ICD10['ICD9'].str.len() == 3, dfICD9_to_ICD10['ICD9'] + '00', 'MarkRegine')))\n",
    "\n",
    "print(\"Make sure all ICD9s have a length of 5:\\n\", dfICD9_to_ICD10['ICD9'].str.len().value_counts())"
   ]
  },
  {
   "cell_type": "markdown",
   "metadata": {},
   "source": [
    "* #### One ICD9 Code Linkes to More than one ICD10"
   ]
  },
  {
   "cell_type": "code",
   "execution_count": 5,
   "metadata": {},
   "outputs": [
    {
     "name": "stdout",
     "output_type": "stream",
     "text": [
      "      ICD9  ICD10   FLAG\n",
      "30   00589   A054  10000\n",
      "31   00589   A058  10000\n",
      "284  01480  A1832  10000\n",
      "285  01480  A1839  10000\n",
      "286  01481  A1832  10000\n",
      "3188\n"
     ]
    }
   ],
   "source": [
    "t = dfICD9_to_ICD10[dfICD9_to_ICD10.duplicated('ICD9', keep=False)]\n",
    "print(t.head())\n",
    "print(t['ICD9'].nunique())"
   ]
  },
  {
   "cell_type": "code",
   "execution_count": 6,
   "metadata": {},
   "outputs": [],
   "source": [
    "counts = t.groupby('ICD9').apply(lambda g: g.reset_index())\n",
    "counts.index = counts.index.get_level_values(level=1)\n",
    "counts.index.name = 'ICD10_Addition'\n",
    "dfICD9_to_10_OneRecPer9 = counts.reset_index().pivot(index='ICD9', columns='ICD10_Addition', values='ICD10')"
   ]
  },
  {
   "cell_type": "markdown",
   "metadata": {},
   "source": [
    "* #### Result is that one ICD9 can have up-to 533 ICD10s"
   ]
  },
  {
   "cell_type": "code",
   "execution_count": 7,
   "metadata": {},
   "outputs": [
    {
     "name": "stdout",
     "output_type": "stream",
     "text": [
      "True\n"
     ]
    },
    {
     "data": {
      "text/html": [
       "<div>\n",
       "<style scoped>\n",
       "    .dataframe tbody tr th:only-of-type {\n",
       "        vertical-align: middle;\n",
       "    }\n",
       "\n",
       "    .dataframe tbody tr th {\n",
       "        vertical-align: top;\n",
       "    }\n",
       "\n",
       "    .dataframe thead th {\n",
       "        text-align: right;\n",
       "    }\n",
       "</style>\n",
       "<table border=\"1\" class=\"dataframe\">\n",
       "  <thead>\n",
       "    <tr style=\"text-align: right;\">\n",
       "      <th>ICD10_Addition</th>\n",
       "      <th>0</th>\n",
       "      <th>1</th>\n",
       "      <th>2</th>\n",
       "      <th>3</th>\n",
       "      <th>4</th>\n",
       "      <th>5</th>\n",
       "      <th>6</th>\n",
       "      <th>7</th>\n",
       "      <th>8</th>\n",
       "      <th>9</th>\n",
       "      <th>...</th>\n",
       "      <th>523</th>\n",
       "      <th>524</th>\n",
       "      <th>525</th>\n",
       "      <th>526</th>\n",
       "      <th>527</th>\n",
       "      <th>528</th>\n",
       "      <th>529</th>\n",
       "      <th>530</th>\n",
       "      <th>531</th>\n",
       "      <th>532</th>\n",
       "    </tr>\n",
       "    <tr>\n",
       "      <th>ICD9</th>\n",
       "      <th></th>\n",
       "      <th></th>\n",
       "      <th></th>\n",
       "      <th></th>\n",
       "      <th></th>\n",
       "      <th></th>\n",
       "      <th></th>\n",
       "      <th></th>\n",
       "      <th></th>\n",
       "      <th></th>\n",
       "      <th></th>\n",
       "      <th></th>\n",
       "      <th></th>\n",
       "      <th></th>\n",
       "      <th></th>\n",
       "      <th></th>\n",
       "      <th></th>\n",
       "      <th></th>\n",
       "      <th></th>\n",
       "      <th></th>\n",
       "      <th></th>\n",
       "    </tr>\n",
       "  </thead>\n",
       "  <tbody>\n",
       "    <tr>\n",
       "      <th>00589</th>\n",
       "      <td>A054</td>\n",
       "      <td>A058</td>\n",
       "      <td>NaN</td>\n",
       "      <td>NaN</td>\n",
       "      <td>NaN</td>\n",
       "      <td>NaN</td>\n",
       "      <td>NaN</td>\n",
       "      <td>NaN</td>\n",
       "      <td>NaN</td>\n",
       "      <td>NaN</td>\n",
       "      <td>...</td>\n",
       "      <td>NaN</td>\n",
       "      <td>NaN</td>\n",
       "      <td>NaN</td>\n",
       "      <td>NaN</td>\n",
       "      <td>NaN</td>\n",
       "      <td>NaN</td>\n",
       "      <td>NaN</td>\n",
       "      <td>NaN</td>\n",
       "      <td>NaN</td>\n",
       "      <td>NaN</td>\n",
       "    </tr>\n",
       "    <tr>\n",
       "      <th>01480</th>\n",
       "      <td>A1832</td>\n",
       "      <td>A1839</td>\n",
       "      <td>NaN</td>\n",
       "      <td>NaN</td>\n",
       "      <td>NaN</td>\n",
       "      <td>NaN</td>\n",
       "      <td>NaN</td>\n",
       "      <td>NaN</td>\n",
       "      <td>NaN</td>\n",
       "      <td>NaN</td>\n",
       "      <td>...</td>\n",
       "      <td>NaN</td>\n",
       "      <td>NaN</td>\n",
       "      <td>NaN</td>\n",
       "      <td>NaN</td>\n",
       "      <td>NaN</td>\n",
       "      <td>NaN</td>\n",
       "      <td>NaN</td>\n",
       "      <td>NaN</td>\n",
       "      <td>NaN</td>\n",
       "      <td>NaN</td>\n",
       "    </tr>\n",
       "    <tr>\n",
       "      <th>01481</th>\n",
       "      <td>A1832</td>\n",
       "      <td>A1839</td>\n",
       "      <td>NaN</td>\n",
       "      <td>NaN</td>\n",
       "      <td>NaN</td>\n",
       "      <td>NaN</td>\n",
       "      <td>NaN</td>\n",
       "      <td>NaN</td>\n",
       "      <td>NaN</td>\n",
       "      <td>NaN</td>\n",
       "      <td>...</td>\n",
       "      <td>NaN</td>\n",
       "      <td>NaN</td>\n",
       "      <td>NaN</td>\n",
       "      <td>NaN</td>\n",
       "      <td>NaN</td>\n",
       "      <td>NaN</td>\n",
       "      <td>NaN</td>\n",
       "      <td>NaN</td>\n",
       "      <td>NaN</td>\n",
       "      <td>NaN</td>\n",
       "    </tr>\n",
       "    <tr>\n",
       "      <th>01482</th>\n",
       "      <td>A1832</td>\n",
       "      <td>A1839</td>\n",
       "      <td>NaN</td>\n",
       "      <td>NaN</td>\n",
       "      <td>NaN</td>\n",
       "      <td>NaN</td>\n",
       "      <td>NaN</td>\n",
       "      <td>NaN</td>\n",
       "      <td>NaN</td>\n",
       "      <td>NaN</td>\n",
       "      <td>...</td>\n",
       "      <td>NaN</td>\n",
       "      <td>NaN</td>\n",
       "      <td>NaN</td>\n",
       "      <td>NaN</td>\n",
       "      <td>NaN</td>\n",
       "      <td>NaN</td>\n",
       "      <td>NaN</td>\n",
       "      <td>NaN</td>\n",
       "      <td>NaN</td>\n",
       "      <td>NaN</td>\n",
       "    </tr>\n",
       "    <tr>\n",
       "      <th>01483</th>\n",
       "      <td>A1832</td>\n",
       "      <td>A1839</td>\n",
       "      <td>NaN</td>\n",
       "      <td>NaN</td>\n",
       "      <td>NaN</td>\n",
       "      <td>NaN</td>\n",
       "      <td>NaN</td>\n",
       "      <td>NaN</td>\n",
       "      <td>NaN</td>\n",
       "      <td>NaN</td>\n",
       "      <td>...</td>\n",
       "      <td>NaN</td>\n",
       "      <td>NaN</td>\n",
       "      <td>NaN</td>\n",
       "      <td>NaN</td>\n",
       "      <td>NaN</td>\n",
       "      <td>NaN</td>\n",
       "      <td>NaN</td>\n",
       "      <td>NaN</td>\n",
       "      <td>NaN</td>\n",
       "      <td>NaN</td>\n",
       "    </tr>\n",
       "  </tbody>\n",
       "</table>\n",
       "<p>5 rows × 533 columns</p>\n",
       "</div>"
      ],
      "text/plain": [
       "ICD10_Addition    0      1    2    3    4    5    6    7    8    9   ...   \\\n",
       "ICD9                                                                 ...    \n",
       "00589            A054   A058  NaN  NaN  NaN  NaN  NaN  NaN  NaN  NaN ...    \n",
       "01480           A1832  A1839  NaN  NaN  NaN  NaN  NaN  NaN  NaN  NaN ...    \n",
       "01481           A1832  A1839  NaN  NaN  NaN  NaN  NaN  NaN  NaN  NaN ...    \n",
       "01482           A1832  A1839  NaN  NaN  NaN  NaN  NaN  NaN  NaN  NaN ...    \n",
       "01483           A1832  A1839  NaN  NaN  NaN  NaN  NaN  NaN  NaN  NaN ...    \n",
       "\n",
       "ICD10_Addition  523  524  525  526  527  528  529  530  531  532  \n",
       "ICD9                                                              \n",
       "00589           NaN  NaN  NaN  NaN  NaN  NaN  NaN  NaN  NaN  NaN  \n",
       "01480           NaN  NaN  NaN  NaN  NaN  NaN  NaN  NaN  NaN  NaN  \n",
       "01481           NaN  NaN  NaN  NaN  NaN  NaN  NaN  NaN  NaN  NaN  \n",
       "01482           NaN  NaN  NaN  NaN  NaN  NaN  NaN  NaN  NaN  NaN  \n",
       "01483           NaN  NaN  NaN  NaN  NaN  NaN  NaN  NaN  NaN  NaN  \n",
       "\n",
       "[5 rows x 533 columns]"
      ]
     },
     "execution_count": 7,
     "metadata": {},
     "output_type": "execute_result"
    }
   ],
   "source": [
    "print(dfICD9_to_10_OneRecPer9.index.is_unique)\n",
    "dfICD9_to_10_OneRecPer9.head()"
   ]
  },
  {
   "cell_type": "markdown",
   "metadata": {},
   "source": [
    "## ---- Prep ICD10 to ICD9 ----"
   ]
  },
  {
   "cell_type": "code",
   "execution_count": null,
   "metadata": {},
   "outputs": [],
   "source": [
    "dfICD10_to_ICD9 = pd.read_pickle(r\"C:\\Users\\Mark\\Desktop\\BXA\\HealthcareAnalyticTools\\src\\dfICD10_to_ICD9.pkl\")"
   ]
  },
  {
   "cell_type": "markdown",
   "metadata": {},
   "source": [
    "* #### Dtype and strip"
   ]
  },
  {
   "cell_type": "code",
   "execution_count": 10,
   "metadata": {},
   "outputs": [],
   "source": [
    "dfICD10_to_ICD9 = dfICD10_to_ICD9.apply(lambda c: c.str.strip()).copy()"
   ]
  },
  {
   "cell_type": "markdown",
   "metadata": {},
   "source": [
    "* #### Add Extra zeros to ICD9 codes"
   ]
  },
  {
   "cell_type": "code",
   "execution_count": 11,
   "metadata": {},
   "outputs": [
    {
     "name": "stdout",
     "output_type": "stream",
     "text": [
      "Make sure all ICD9s have a length of 5:\n",
      " 5    53869\n",
      "4    25067\n",
      "3      256\n",
      "Name: ICD9, dtype: int64\n",
      "Make sure all ICD9s have a length of 5:\n",
      " 5    79192\n",
      "Name: ICD9, dtype: int64\n"
     ]
    }
   ],
   "source": [
    "print(\"Make sure all ICD9s have a length of 5:\\n\", dfICD10_to_ICD9['ICD9'].str.len().value_counts())\n",
    "\n",
    "dfICD10_to_ICD9['ICD9'] = \\\n",
    "    np.where(dfICD10_to_ICD9['ICD9'].str.len() == 5, dfICD10_to_ICD9['ICD9'], \n",
    "        np.where(dfICD10_to_ICD9['ICD9'].str.len() == 4, dfICD10_to_ICD9['ICD9'] + '0', \n",
    "            np.where(dfICD10_to_ICD9['ICD9'].str.len() == 3, dfICD10_to_ICD9['ICD9'] + '00', 'MarkRegine')))\n",
    "\n",
    "print(\"Make sure all ICD9s have a length of 5:\\n\", dfICD10_to_ICD9['ICD9'].str.len().value_counts())"
   ]
  },
  {
   "cell_type": "markdown",
   "metadata": {},
   "source": [
    "* #### Yes, this table too has ICD10s linking to more then one ICD9"
   ]
  },
  {
   "cell_type": "code",
   "execution_count": 12,
   "metadata": {},
   "outputs": [
    {
     "name": "stdout",
     "output_type": "stream",
     "text": [
      "False\n"
     ]
    },
    {
     "data": {
      "text/html": [
       "<div>\n",
       "<style scoped>\n",
       "    .dataframe tbody tr th:only-of-type {\n",
       "        vertical-align: middle;\n",
       "    }\n",
       "\n",
       "    .dataframe tbody tr th {\n",
       "        vertical-align: top;\n",
       "    }\n",
       "\n",
       "    .dataframe thead th {\n",
       "        text-align: right;\n",
       "    }\n",
       "</style>\n",
       "<table border=\"1\" class=\"dataframe\">\n",
       "  <thead>\n",
       "    <tr style=\"text-align: right;\">\n",
       "      <th></th>\n",
       "      <th>ICD10</th>\n",
       "      <th>ICD9</th>\n",
       "      <th>FLAG</th>\n",
       "    </tr>\n",
       "  </thead>\n",
       "  <tbody>\n",
       "    <tr>\n",
       "      <th>15</th>\n",
       "      <td>A021</td>\n",
       "      <td>00310</td>\n",
       "      <td>10111</td>\n",
       "    </tr>\n",
       "    <tr>\n",
       "      <th>16</th>\n",
       "      <td>A021</td>\n",
       "      <td>99591</td>\n",
       "      <td>10112</td>\n",
       "    </tr>\n",
       "    <tr>\n",
       "      <th>36</th>\n",
       "      <td>A044</td>\n",
       "      <td>00800</td>\n",
       "      <td>10000</td>\n",
       "    </tr>\n",
       "    <tr>\n",
       "      <th>37</th>\n",
       "      <td>A044</td>\n",
       "      <td>00809</td>\n",
       "      <td>10000</td>\n",
       "    </tr>\n",
       "    <tr>\n",
       "      <th>41</th>\n",
       "      <td>A048</td>\n",
       "      <td>00820</td>\n",
       "      <td>10000</td>\n",
       "    </tr>\n",
       "  </tbody>\n",
       "</table>\n",
       "</div>"
      ],
      "text/plain": [
       "   ICD10   ICD9   FLAG\n",
       "15  A021  00310  10111\n",
       "16  A021  99591  10112\n",
       "36  A044  00800  10000\n",
       "37  A044  00809  10000\n",
       "41  A048  00820  10000"
      ]
     },
     "execution_count": 12,
     "metadata": {},
     "output_type": "execute_result"
    }
   ],
   "source": [
    "print(dfICD10_to_ICD9['ICD10'].is_unique)\n",
    "dfICD10_to_ICD9[dfICD10_to_ICD9.duplicated('ICD10', keep=False)].head()"
   ]
  },
  {
   "cell_type": "markdown",
   "metadata": {},
   "source": [
    "## ------------------------------------------------------------------------------------------------------------------"
   ]
  },
  {
   "cell_type": "markdown",
   "metadata": {},
   "source": [
    "## --- Extract_Dx_Regardless_of_ICD_Version ---"
   ]
  },
  {
   "cell_type": "code",
   "execution_count": null,
   "metadata": {},
   "outputs": [],
   "source": [
    "def Extract_Dx_Regardless_of_ICD_Version(df, list_of_icds_to_search_for, Version=9, DxNumber='All'):\n",
    "    \"\"\" ---------------------------------  \n",
    "    This will search the medical df for ICDs of interest regardless of ICD version used.  \n",
    "    Required that the dfMed table has a column (col name 'ICDversion' of type str) indicating the ICDversion == '9'|'0'  \n",
    "    Currently this only uses the fields Dx1, Dx2, Dx3 (see function code). Ammend function if needed.  \n",
    "    Dependancies: dfICD9_to_ICD10 & dfICD10_to_ICD9\n",
    "    Returns a DataFrame. \n",
    "    ----  \n",
    "    df: dfMed.  \n",
    "    list_of_icds_to_search_for: ex. ['25000', '49300'].  \n",
    "    Version: The version of ICD codes listed above.  \n",
    "    DxNumber: primary('1'), secondary('2'), tertiary('3'), and '12', ...  \n",
    "    -------------------------------------  \n",
    "    \"\"\"\n",
    "    ## Takes the medical and melts it\n",
    "    t = df[['ICDversion', 'Dx1', 'Dx2', 'Dx3']].reset_index(drop=False).copy()  ## IF you change to include all pd.Series(dfMed.columns).str.startswith Dx[0-9] then you have to change below too!\n",
    "    t.rename(columns={'index':'index_orig'}, inplace=True)\n",
    "    tt = pd.melt(t, id_vars=['index_orig', 'ICDversion'], value_vars=['Dx1', 'Dx2', 'Dx3']).copy()\n",
    "    print(\"this should be == to the number of dx columns and then the number of records times the number of dx cols:\\n\",  tt['index_orig'].value_counts().sort_values().value_counts())\n",
    "    print(\"vc of IDCversions in the data set:\\n\", tt['ICDversion'].value_counts())\n",
    "\n",
    "    if Version == 9:\n",
    "        ## if searching for an ICD9, look in ICD9s \n",
    "        df9s = tt.query(\"ICDversion == '9'\").copy()\n",
    "        if DxNumber == 'All':\n",
    "            index_values = df9s.loc[df9s.value.isin(list_of_icds_to_search_for), 'index_orig']  \n",
    "        elif DxNumber == '1':\n",
    "            index_values = df9s.loc[(df9s.value.isin(list_of_icds_to_search_for)) & (df9s['variable'] == 'Dx1'), 'index_orig'] \n",
    "        elif DxNumber == '12':\n",
    "            index_values = df9s.loc[(df9s.value.isin(list_of_icds_to_search_for)) & ((df9s['variable'] == 'Dx1') | (df9s['variable'] == 'Dx2')), 'index_orig']            \n",
    "        r1 = df.loc[index_values, :]\n",
    "\n",
    "        ## if searching for an ICD9, look in ICD10s \n",
    "        # return a list of ICD10s that link to the ICD9 searching for\n",
    "        ICD10s_to_find_in_medical = dfICD9_to_ICD10.loc[dfICD9_to_ICD10.ICD9.str.strip().str.contains('|'.join(list_of_icds_to_search_for)), 'ICD10']\n",
    "        print(ICD10s_to_find_in_medical)\n",
    "        # select recs from med where verison is 10\n",
    "        df10s = tt.query(\"ICDversion == '0'\").copy()\n",
    "        if DxNumber == 'All':        \n",
    "            index_values = df10s.loc[df10s.value.isin(ICD10s_to_find_in_medical), 'index_orig']\n",
    "        elif DxNumber == '1':\n",
    "            index_values = df10s.loc[(df10s.value.isin(ICD10s_to_find_in_medical)) & (df10s['variable'] == 'Dx1'), 'index_orig']\n",
    "        elif DxNumber == '12':\n",
    "            index_values = df10s.loc[(df10s.value.isin(ICD10s_to_find_in_medical)) & ((df10s['variable'] == 'Dx1') | (df10s['variable'] == 'Dx2')), 'index_orig'] \n",
    "        r2 = df.loc[index_values, :]\n",
    "        r = pd.concat([r1, r2])\n",
    "        return r\n",
    "    \n",
    "    if Version == 10:\n",
    "        ## if searching for an ICD10, look in ICD10s \n",
    "        df10s = tt.query(\"ICDversion == '0'\").copy()\n",
    "        if DxNumber == 'All':\n",
    "            index_values = df10s.loc[df10s.value.isin(list_of_icds_to_search_for), 'index_orig']  \n",
    "        elif DxNumber == '1':\n",
    "            index_values = df10s.loc[(df10s.value.isin(list_of_icds_to_search_for)) & (df10s['variable'] == 'Dx1'), 'index_orig'] \n",
    "        elif DxNumber == '12':\n",
    "            index_values = df10s.loc[(df10s.value.isin(list_of_icds_to_search_for)) & ((df10s['variable'] == 'Dx1') | (df10s['variable'] == 'Dx2')), 'index_orig']            \n",
    "        r1 = df.loc[index_values, :]\n",
    "        \n",
    "        ## if searching for an ICD10, look in ICD9s \n",
    "        # return a list of ICD9s that link to the ICD10 searching for\n",
    "        ICD9s_to_find_in_medical = dfICD10_to_ICD9.loc[dfICD10_to_ICD9['ICD10'].str.strip().isin(list_of_icds_to_search_for), 'ICD9']\n",
    "        print(ICD9s_to_find_in_medical)\n",
    "        # select recs from med where verison is 9\n",
    "        df9s = tt.query(\"ICDversion == '9'\").copy()\n",
    "        if DxNumber == 'All':        \n",
    "            index_values = df9s.loc[df9s.value.isin(ICD9s_to_find_in_medical), 'index_orig']\n",
    "        elif DxNumber == '1':\n",
    "            index_values = df9s.loc[(df9s.value.isin(ICD9s_to_find_in_medical)) & (df9s['variable'] == 'Dx1'), 'index_orig']\n",
    "        elif DxNumber == '12':\n",
    "            index_values = df9s.loc[(df9s.value.isin(ICD9s_to_find_in_medical)) & ((df9s['variable'] == 'Dx1') | (df9s['variable'] == 'Dx2')), 'index_orig'] \n",
    "        r2 = df.loc[index_values, :]\n",
    "        r = pd.concat([r1, r2])\n",
    "        return r "
   ]
  }
 ],
 "metadata": {
  "kernelspec": {
   "display_name": "Python 3",
   "language": "python",
   "name": "python3"
  },
  "language_info": {
   "codemirror_mode": {
    "name": "ipython",
    "version": 3
   },
   "file_extension": ".py",
   "mimetype": "text/x-python",
   "name": "python",
   "nbconvert_exporter": "python",
   "pygments_lexer": "ipython3",
   "version": "3.6.5"
  }
 },
 "nbformat": 4,
 "nbformat_minor": 2
}
