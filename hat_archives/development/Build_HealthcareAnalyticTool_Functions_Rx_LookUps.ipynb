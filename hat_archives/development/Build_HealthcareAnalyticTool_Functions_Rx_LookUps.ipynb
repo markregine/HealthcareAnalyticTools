{
 "cells": [
  {
   "cell_type": "code",
   "execution_count": 9,
   "metadata": {},
   "outputs": [],
   "source": [
    "import sys\n",
    "sys.path.append(r'C:\\Users\\Mark\\Desktop\\BXA\\HealthcareAnalyticTools')"
   ]
  },
  {
   "cell_type": "code",
   "execution_count": 1,
   "metadata": {},
   "outputs": [
    {
     "data": {
      "text/html": [
       "<style>.container { width:95% !important; }</style>"
      ],
      "text/plain": [
       "<IPython.core.display.HTML object>"
      ]
     },
     "metadata": {},
     "output_type": "display_data"
    }
   ],
   "source": [
    "#%load load.py\n",
    "\n",
    "import pandas as pd\n",
    "import numpy as np\n",
    "from matplotlib import pyplot as plt\n",
    "%matplotlib inline\n",
    "\n",
    "from pyexcel_ods import get_data as OpenOffice\n",
    "\n",
    "from IPython.core.display import display, HTML\n",
    "display(HTML(\"<style>.container { width:95% !important; }</style>\"))"
   ]
  },
  {
   "cell_type": "markdown",
   "metadata": {},
   "source": [
    "## Read_FDB"
   ]
  },
  {
   "cell_type": "code",
   "execution_count": 1,
   "metadata": {},
   "outputs": [],
   "source": [
    "def Read_FDB(path=r\"C:\\Users\\Mark\\Desktop\\BXA\\HealthcareAnalyticTools\\src\\FDB_Base.xlsx\"):\n",
    "\n",
    "    dfFDB = pd.read_excel(path, sheet_name='FirstDatabankMedicationBASE')\n",
    "    print(\"NumRecs: \\n\", dfFDB.shape)\n",
    "    print(\"Is the NDC unique: \\n\" + str(dfFDB['NDC'].is_unique))\n",
    "    \n",
    "    ## Dtype for NDC\n",
    "    dfFDB['NDC'] = dfFDB['NDC'].astype(str).str.strip().str.zfill(11)\n",
    "    \n",
    "    ## Rename Drug Columns\n",
    "    dfFDB.rename(columns={'BrandNM':'DrugNameFDB', 'GenericNM':'GenericNameFDB', 'AverageWholesalePriceAMT':'AvgWholesalePriceFDBAmt'}, inplace=True)\n",
    "\n",
    "    ## Select columns for indication, if it needs an underscore, add one\n",
    "\n",
    "    cols_dfFDB = pd.Series(dfFDB.columns)\n",
    "\n",
    "    m = cols_dfFDB.str.contains('Indication', case=False)\n",
    "\n",
    "    indication_columns_orig = cols_dfFDB[m]\n",
    "    indication_columns_new = cols_dfFDB[m].str.replace(\" \", \"_\")\n",
    "\n",
    "    rename = dict(zip(indication_columns_orig, indication_columns_new))\n",
    "    dfFDB.rename(columns=rename, inplace=True)\n",
    "    \n",
    "    ## Join the Indications into one Column\n",
    "    def join_indication_columns(r):\n",
    "        r = r.tolist()\n",
    "        l = [i for i in r if i != '']\n",
    "        j = ' | '.join(l)\n",
    "        return j\n",
    "\n",
    "    dfFDB['IndicationsFDB'] = dfFDB[indication_columns_new]\\\n",
    "                                .fillna('')\\\n",
    "                                .apply(lambda c: c.str.strip())\\\n",
    "                                .apply(join_indication_columns, axis=1)\n",
    "    \n",
    "    print(\"Key dfFDB column names:\\n\", ['NDC', 'DrugNameFDB', 'GenericNameFDB', 'IndicationsFDB', 'AvgWholesalePriceFDBAmt'])\n",
    "    \n",
    "    return dfFDB"
   ]
  },
  {
   "cell_type": "code",
   "execution_count": null,
   "metadata": {},
   "outputs": [],
   "source": [
    "dfFDB = Read_FDB()"
   ]
  },
  {
   "cell_type": "markdown",
   "metadata": {},
   "source": [
    "## Read JCodeRxLookUp"
   ]
  },
  {
   "cell_type": "code",
   "execution_count": 3,
   "metadata": {},
   "outputs": [],
   "source": [
    "def Read_JCodeRxLookUp(path=r\"C:\\Users\\Mark\\Desktop\\BXA\\HealthcareAnalyticTools\\src\\JCode List.xlsx\", Return='NoDups'):\n",
    "    \"\"\" Returns The JCodeRxLookUp table  \n",
    "    -------------------------------------  \n",
    "    Return: Some JCodes are duplicated, do you want 'Dups' or 'NoDups'? Default is 'NoDups'.  \n",
    "    -------------------------------------  \n",
    "    \"\"\"\n",
    "\n",
    "    df = pd.read_excel(path)\n",
    "    print(\"NumRecs: \\n\", df.shape)\n",
    "    print(\"Is the JCode unique: \\n\" + str(df['JCode'].is_unique))\n",
    "    \n",
    "    ## Dtypes\n",
    "    df['JCode'] = df['JCode'].str.strip()\n",
    "    \n",
    "    ## Rename Columns\n",
    "    df.rename(columns={'JCode_Description':'JCodeRxName'}, inplace=True)\n",
    "    \n",
    "    ## Select columns for indication, if it needs an underscore, add one\n",
    "\n",
    "    cols_df = pd.Series(df.columns)\n",
    "\n",
    "    m = cols_df.str.contains('Indication', case=False)\n",
    "\n",
    "    indication_columns_orig = cols_df[m]\n",
    "    indication_columns_new = cols_df[m].str.replace(\" \", \"_\")\n",
    "\n",
    "    rename = dict(zip(indication_columns_orig, indication_columns_new))\n",
    "    df.rename(columns=rename, inplace=True)\n",
    "    \n",
    "    ## Join the Indications into one Column\n",
    "    def join_indication_columns(r):\n",
    "        r = r.tolist()\n",
    "        l = [i for i in r if i != '']\n",
    "        j = ' | '.join(l)\n",
    "        return j\n",
    "\n",
    "    df['IndicationsJCode'] = df[indication_columns_new]\\\n",
    "                                .fillna('')\\\n",
    "                                .apply(lambda c: c.str.strip())\\\n",
    "                                .apply(join_indication_columns, axis=1)\n",
    "    \n",
    "    print(\"Key dfJCodeLookup column names:\\n\", ['JCode', 'IndicationsJCode'])\n",
    "    \n",
    "    Dups = dfJCodeLookup[dfJCodeLookup.duplicated('JCode', keep=False)].sort_values('JCode').copy()\n",
    "    NoDups = dfJCodeLookup[~dfJCodeLookup.index.isin(dups.index)].copy()\n",
    "    \n",
    "    if Return == 'Dups':\n",
    "        return Dups\n",
    "    elif Return == 'NoDups':\n",
    "        return NoDups"
   ]
  }
 ],
 "metadata": {
  "kernelspec": {
   "display_name": "Python 3",
   "language": "python",
   "name": "python3"
  },
  "language_info": {
   "codemirror_mode": {
    "name": "ipython",
    "version": 3
   },
   "file_extension": ".py",
   "mimetype": "text/x-python",
   "name": "python",
   "nbconvert_exporter": "python",
   "pygments_lexer": "ipython3",
   "version": "3.6.5"
  }
 },
 "nbformat": 4,
 "nbformat_minor": 2
}
